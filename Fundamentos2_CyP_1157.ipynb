{
  "nbformat": 4,
  "nbformat_minor": 0,
  "metadata": {
    "colab": {
      "name": "Fundamentos2_CyP_1157.ipynb",
      "provenance": [],
      "authorship_tag": "ABX9TyNfgZ1NNJtAZQpFmm/oydaw",
      "include_colab_link": true
    },
    "kernelspec": {
      "name": "python3",
      "display_name": "Python 3"
    },
    "language_info": {
      "name": "python"
    }
  },
  "cells": [
    {
      "cell_type": "markdown",
      "metadata": {
        "id": "view-in-github",
        "colab_type": "text"
      },
      "source": [
        "<a href=\"https://colab.research.google.com/github/Karla-Valentin/Fundamentos2_04-11-21/blob/main/Fundamentos2_CyP_1157.ipynb\" target=\"_parent\"><img src=\"https://colab.research.google.com/assets/colab-badge.svg\" alt=\"Open In Colab\"/></a>"
      ]
    },
    {
      "cell_type": "code",
      "metadata": {
        "id": "o4XkS-t1FNyY"
      },
      "source": [
        ""
      ],
      "execution_count": null,
      "outputs": []
    },
    {
      "cell_type": "markdown",
      "metadata": {
        "id": "likrSB0OFUrU"
      },
      "source": [
        "# Tipos de datos estructurados en Python \n",
        "\n",
        "1. Listas\n",
        "2. Tuplas\n",
        "3. Diccionarios\n",
        "4. Conjuntos (opcional)\n"
      ]
    },
    {
      "cell_type": "markdown",
      "metadata": {
        "id": "eJCLexMGFjt4"
      },
      "source": [
        "# Listas\n",
        "\n",
        "-Tipo de dato que agrupa datos o valores.\n",
        "- Estructura secuencial (indexados empezando por 0)\n",
        "- Se declara de dos formas#\n",
        "      - usando [ ]\n",
        "      - usando list()\n",
        "      - usando un generador\n",
        "- Puede obtener tipos de datos diversos (en otros lenguajes de prog. eso no es posible de forma directa)\n",
        "- Los elemntos internos se seleccionan con [ ]\n",
        "-Soporta slicing \n",
        "- Son mutables \n",
        "- GENERADORES [ var for x in range [10]]\n",
        "- Al ser una clase contiene muchos métodos útiles\n"
      ]
    },
    {
      "cell_type": "code",
      "metadata": {
        "colab": {
          "base_uri": "https://localhost:8080/"
        },
        "id": "juc0t4QyGhET",
        "outputId": "73e34546-ae5a-4800-f1a4-11472a315ef1"
      },
      "source": [
        "numeros = [ 10,5,2, 3, 1 ]\n",
        "print(numeros)\n",
        "\n",
        "# append para agregar elementos a la lista \n",
        "numeros2 = list()\n",
        "numeros2.append(10)\n",
        "numeros2.append(5)\n",
        "numeros2.append(2)\n",
        "numeros2.append(3)\n",
        "numeros2.append(1)\n",
        "print(numeros2)\n",
        "numeros[2] = 20 #Para cambiar el 2 a un 20\n",
        "print(numeros)\n",
        "numeros[4] = 33\n",
        "print(numeros)\n",
        "numeros[-1] = 33 #Con indexado negativo también se puede hacer\n",
        "print(numeros)\n",
        "numeros.append(88)\n",
        "print(numeros)"
      ],
      "execution_count": 17,
      "outputs": [
        {
          "output_type": "stream",
          "name": "stdout",
          "text": [
            "[10, 5, 2, 3, 1]\n",
            "[10, 5, 2, 3, 1]\n",
            "[10, 5, 20, 3, 1]\n",
            "[10, 5, 20, 3, 33]\n",
            "[10, 5, 20, 3, 33]\n",
            "[10, 5, 20, 3, 33, 88]\n"
          ]
        }
      ]
    },
    {
      "cell_type": "code",
      "metadata": {
        "colab": {
          "base_uri": "https://localhost:8080/"
        },
        "id": "aI0eqKo9ISmD",
        "outputId": "55dac4e1-7c07-4635-9356-b93284ddd648"
      },
      "source": [
        "# tipos diversos\n",
        "\n",
        "cosas = [12 , 2 , True , \"Jose\" , 1.57 , [\"pera\", \"kiwi\", \"uva\"]]\n",
        "print(cosas)\n",
        "print(cosas[1]) #Para sacar qué elemento esta en la posición 1\n",
        "print(cosas[4])\n",
        "print(cosas[5])\n",
        "print(cosas[5][1]) #Para imprimir kiwi de la lista que esta dentro de otra lista \n",
        "print(cosas[3][1:3:]) #Para imprimir las letras os de la palabra \"Jose\"\n",
        "cosas[3] = cosas[3].upper() #upper() para convertir en mayusculas\n",
        "print(cosas)\n"
      ],
      "execution_count": 18,
      "outputs": [
        {
          "output_type": "stream",
          "name": "stdout",
          "text": [
            "[12, 2, True, 'Jose', 1.57, ['pera', 'kiwi', 'uva']]\n",
            "2\n",
            "1.57\n",
            "['pera', 'kiwi', 'uva']\n",
            "kiwi\n",
            "os\n",
            "[12, 2, True, 'JOSE', 1.57, ['pera', 'kiwi', 'uva']]\n"
          ]
        }
      ]
    },
    {
      "cell_type": "code",
      "metadata": {
        "colab": {
          "base_uri": "https://localhost:8080/"
        },
        "id": "ndWGe8KaLtdD",
        "outputId": "c52cc9f9-850a-43b4-9bed-5ea2e0e01331"
      },
      "source": [
        "numeros = [1,2,3,4,5,6,7,8,9,10,11]\n",
        "print(numeros)\n",
        "#slicing\n",
        "#Ejemplo 1. Imprimir del 4 al 8\n",
        "print(numeros[3:8])\n",
        "\n",
        "#Ejemplo 2. Obtener 9,10\n",
        "print(numeros[8:10])\n",
        "print(numeros[-3:-1:]) #Con indexado negativo\n",
        "\n",
        "#Ejemplo 3. Imprimir la lista en orden inverso\n",
        "print(numeros[::-1])\n",
        "\n"
      ],
      "execution_count": 24,
      "outputs": [
        {
          "output_type": "stream",
          "name": "stdout",
          "text": [
            "[1, 2, 3, 4, 5, 6, 7, 8, 9, 10, 11]\n",
            "[4, 5, 6, 7, 8]\n",
            "[9, 10]\n",
            "[9, 10]\n",
            "[11, 10, 9, 8, 7, 6, 5, 4, 3, 2, 1]\n"
          ]
        }
      ]
    },
    {
      "cell_type": "code",
      "metadata": {
        "colab": {
          "base_uri": "https://localhost:8080/"
        },
        "id": "ISr6ClMHPgXW",
        "outputId": "20042c1b-4a63-44dc-e858-1c94badeaf78"
      },
      "source": [
        "# Crear una lista con un generador \n",
        "numeros = [x for x in range(101)]\n",
        "print(numeros)\n",
        "\n",
        "numeros = [x*3 for x in range(101)] #Para que se multiplique por 3 \n",
        "print(numeros)"
      ],
      "execution_count": 26,
      "outputs": [
        {
          "output_type": "stream",
          "name": "stdout",
          "text": [
            "[0, 1, 2, 3, 4, 5, 6, 7, 8, 9, 10, 11, 12, 13, 14, 15, 16, 17, 18, 19, 20, 21, 22, 23, 24, 25, 26, 27, 28, 29, 30, 31, 32, 33, 34, 35, 36, 37, 38, 39, 40, 41, 42, 43, 44, 45, 46, 47, 48, 49, 50, 51, 52, 53, 54, 55, 56, 57, 58, 59, 60, 61, 62, 63, 64, 65, 66, 67, 68, 69, 70, 71, 72, 73, 74, 75, 76, 77, 78, 79, 80, 81, 82, 83, 84, 85, 86, 87, 88, 89, 90, 91, 92, 93, 94, 95, 96, 97, 98, 99, 100]\n",
            "[0, 3, 6, 9, 12, 15, 18, 21, 24, 27, 30, 33, 36, 39, 42, 45, 48, 51, 54, 57, 60, 63, 66, 69, 72, 75, 78, 81, 84, 87, 90, 93, 96, 99, 102, 105, 108, 111, 114, 117, 120, 123, 126, 129, 132, 135, 138, 141, 144, 147, 150, 153, 156, 159, 162, 165, 168, 171, 174, 177, 180, 183, 186, 189, 192, 195, 198, 201, 204, 207, 210, 213, 216, 219, 222, 225, 228, 231, 234, 237, 240, 243, 246, 249, 252, 255, 258, 261, 264, 267, 270, 273, 276, 279, 282, 285, 288, 291, 294, 297, 300]\n"
          ]
        }
      ]
    },
    {
      "cell_type": "markdown",
      "metadata": {
        "id": "uKNRx4gqQPry"
      },
      "source": [
        "# función range()\n",
        "\n",
        "Tiene los mismos componentes que slicing \n",
        "\n",
        "ini , stop , incremento \n",
        "\n",
        "range(1,101,1)"
      ]
    },
    {
      "cell_type": "code",
      "metadata": {
        "colab": {
          "base_uri": "https://localhost:8080/"
        },
        "id": "S2g-P-txQmDu",
        "outputId": "f59dd973-325f-4aa0-b609-128278c3da5f"
      },
      "source": [
        "numeros = [x for x in range(50, 101)] #Para que empiece desde el 50\n",
        "print(numeros)"
      ],
      "execution_count": 28,
      "outputs": [
        {
          "output_type": "stream",
          "name": "stdout",
          "text": [
            "[50, 51, 52, 53, 54, 55, 56, 57, 58, 59, 60, 61, 62, 63, 64, 65, 66, 67, 68, 69, 70, 71, 72, 73, 74, 75, 76, 77, 78, 79, 80, 81, 82, 83, 84, 85, 86, 87, 88, 89, 90, 91, 92, 93, 94, 95, 96, 97, 98, 99, 100]\n"
          ]
        }
      ]
    },
    {
      "cell_type": "markdown",
      "metadata": {
        "id": "w4VwZh-EQ_1Z"
      },
      "source": [
        "# Métodos disponibles de las listas "
      ]
    },
    {
      "cell_type": "code",
      "metadata": {
        "colab": {
          "base_uri": "https://localhost:8080/"
        },
        "id": "6mY5_gmsREsP",
        "outputId": "911e15d3-696b-4137-823a-b807b87c5f8c"
      },
      "source": [
        "dir(list)"
      ],
      "execution_count": 29,
      "outputs": [
        {
          "output_type": "execute_result",
          "data": {
            "text/plain": [
              "['__add__',\n",
              " '__class__',\n",
              " '__contains__',\n",
              " '__delattr__',\n",
              " '__delitem__',\n",
              " '__dir__',\n",
              " '__doc__',\n",
              " '__eq__',\n",
              " '__format__',\n",
              " '__ge__',\n",
              " '__getattribute__',\n",
              " '__getitem__',\n",
              " '__gt__',\n",
              " '__hash__',\n",
              " '__iadd__',\n",
              " '__imul__',\n",
              " '__init__',\n",
              " '__init_subclass__',\n",
              " '__iter__',\n",
              " '__le__',\n",
              " '__len__',\n",
              " '__lt__',\n",
              " '__mul__',\n",
              " '__ne__',\n",
              " '__new__',\n",
              " '__reduce__',\n",
              " '__reduce_ex__',\n",
              " '__repr__',\n",
              " '__reversed__',\n",
              " '__rmul__',\n",
              " '__setattr__',\n",
              " '__setitem__',\n",
              " '__sizeof__',\n",
              " '__str__',\n",
              " '__subclasshook__',\n",
              " 'append',\n",
              " 'clear',\n",
              " 'copy',\n",
              " 'count',\n",
              " 'extend',\n",
              " 'index',\n",
              " 'insert',\n",
              " 'pop',\n",
              " 'remove',\n",
              " 'reverse',\n",
              " 'sort']"
            ]
          },
          "metadata": {},
          "execution_count": 29
        }
      ]
    },
    {
      "cell_type": "code",
      "metadata": {
        "colab": {
          "base_uri": "https://localhost:8080/"
        },
        "id": "w3Pye_uCSSt1",
        "outputId": "efb1b6c3-4d05-40d4-9bed-e02af2e98146"
      },
      "source": [
        "numeros = [4,1,15,8,22,34,50]\n",
        "print(numeros)\n",
        "numeros.append(99)\n",
        "print(numeros)\n",
        "\n",
        "#Para limpiar la lista\n",
        "#numeros.clear()\n",
        "print(numeros)\n",
        "#otra alternativa es poner \n",
        "#numeros = []\n",
        "print(numeros)\n",
        "\n",
        "#Copy\n",
        "\n",
        "frutas = [\"uvas\" , \"kiwi\" , \"manzana\"]\n",
        "copia = frutas\n",
        "print(frutas)\n",
        "print(copia)\n",
        "frutas.append(\"naranja\")\n",
        "print(frutas)\n",
        "print(copia)\n",
        "\n",
        "colores = [\"rojo\" , \"azul\" , \"blanco\"]\n",
        "copia2 = colores.copy() #esta función en memoria va a reservar una copia fisica \n",
        "print(colores)\n",
        "print(copia2)\n",
        "colores.append(\"verde\")\n",
        "print(colores)\n",
        "print(copia2)\n",
        "\n",
        "#count \n",
        "\n",
        "print(\"Numero de veces que aparece el 15=\" , numeros.count(15))\n",
        "\n",
        "#extend\n",
        "\n",
        "nombres = [\"jose\" , \"pedro\" , \"karina\"]\n",
        "otrosNombres = [\"josue\" , \"diana\" , \"daira\"]\n",
        "\n",
        "print(nombres)\n",
        "print(otrosNombres)\n",
        "nombres = nombres + otrosNombres\n",
        "print(nombres)\n",
        "print(otrosNombres)\n",
        "\n",
        "#lo mismo con el metodo extend\n",
        "otrosNombres.extend([\"jesus\" , \"maria\" , \"jose\"])\n",
        "print(otrosNombres)\n",
        "\n",
        "#index\n",
        "print(\"jesus esta en la posicion:\" , otrosNombres.index(\"jesus\"))\n",
        "\n",
        "#insert\n",
        "otrosNombres.insert(4,  \"Espiritu santo\") #insertar un elemento\n",
        "print(otrosNombres)\n",
        "\n",
        "#pop\n",
        "resultado = otrosNombres.pop() #saca el ultimo elemnto y lo regresa\n",
        "print(otrosNombres)\n",
        "print(resultado)"
      ],
      "execution_count": 44,
      "outputs": [
        {
          "output_type": "stream",
          "name": "stdout",
          "text": [
            "[4, 1, 15, 8, 22, 34, 50]\n",
            "[4, 1, 15, 8, 22, 34, 50, 99]\n",
            "[4, 1, 15, 8, 22, 34, 50, 99]\n",
            "[4, 1, 15, 8, 22, 34, 50, 99]\n",
            "['uvas', 'kiwi', 'manzana']\n",
            "['uvas', 'kiwi', 'manzana']\n",
            "['uvas', 'kiwi', 'manzana', 'naranja']\n",
            "['uvas', 'kiwi', 'manzana', 'naranja']\n",
            "['rojo', 'azul', 'blanco']\n",
            "['rojo', 'azul', 'blanco']\n",
            "['rojo', 'azul', 'blanco', 'verde']\n",
            "['rojo', 'azul', 'blanco']\n",
            "Numero de veces que aparece el 15= 1\n",
            "['jose', 'pedro', 'karina']\n",
            "['josue', 'diana', 'daira']\n",
            "['jose', 'pedro', 'karina', 'josue', 'diana', 'daira']\n",
            "['josue', 'diana', 'daira']\n",
            "['josue', 'diana', 'daira', 'jesus', 'maria', 'jose']\n",
            "jesus esta en la posicion: 3\n",
            "['josue', 'diana', 'daira', 'jesus', 'Espiritu santo', 'maria', 'jose']\n",
            "['josue', 'diana', 'daira', 'jesus', 'Espiritu santo', 'maria']\n",
            "jose\n"
          ]
        }
      ]
    }
  ]
}